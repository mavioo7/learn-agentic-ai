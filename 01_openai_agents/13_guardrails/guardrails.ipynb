{
  "nbformat": 4,
  "nbformat_minor": 0,
  "metadata": {
    "colab": {
      "provenance": [],
      "include_colab_link": true
    },
    "kernelspec": {
      "name": "python3",
      "display_name": "Python 3"
    },
    "language_info": {
      "name": "python"
    }
  },
  "cells": [
    {
      "cell_type": "markdown",
      "metadata": {
        "id": "view-in-github",
        "colab_type": "text"
      },
      "source": [
        "<a href=\"https://colab.research.google.com/github/mavioo7/learn-agentic-ai/blob/main/01_openai_agents/13_guardrails/guardrails.ipynb\" target=\"_parent\"><img src=\"https://colab.research.google.com/assets/colab-badge.svg\" alt=\"Open In Colab\"/></a>"
      ]
    },
    {
      "cell_type": "markdown",
      "source": [
        "# **Guardrails**"
      ],
      "metadata": {
        "id": "JtKpusSwWIZY"
      }
    },
    {
      "cell_type": "markdown",
      "source": [
        "Summary: OpenAI have also included guardrails in the Agents SDK. These come as input guardrails and output guardrails, the input_guardrail checks that the input going into your LLM is \"safe\" and the output_guardrail checks that the output from your LLM is \"safe\".\n",
        "\n",
        "Guardrails run in parallel to your agents, enabling you to do checks and validations of user input. For example, imagine you have an agent that uses a very smart (and hence slow/expensive) model to help with customer requests. You wouldn't want malicious users to ask the model to help them with their math homework. So, you can run a guardrail with a fast/cheap model. If the guardrail detects malicious usage, it can immediately raise an error, which stops the expensive model from running and saves you time/money.\n",
        "\n",
        "There are two kinds of guardrails:\n",
        "\n",
        "1. Input guardrails run on the initial user input\n",
        "2. Output guardrails run on the final agent output\n",
        "\n",
        "Reference:\n",
        "https://openai.github.io/openai-agents-python/guardrails/\n"
      ],
      "metadata": {
        "id": "MagfdaZ7WpAq"
      }
    },
    {
      "cell_type": "markdown",
      "source": [
        "## Input guardrails"
      ],
      "metadata": {
        "id": "9naM69-5WOiu"
      }
    },
    {
      "cell_type": "markdown",
      "source": [
        "Input guardrails run in 3 steps:\n",
        "\n",
        "1. First, the guardrail receives the same input passed to the agent.\n",
        "2. Next, the guardrail function runs to produce a GuardrailFunctionOutput, which is then wrapped in an InputGuardrailResult\n",
        "3. Finally, we check if .tripwire_triggered is true. If true, an InputGuardrailTripwireTriggered exception is raised, so you can appropriately respond to the user or handle the exception."
      ],
      "metadata": {
        "id": "Oi2jwrR7XCAc"
      }
    },
    {
      "cell_type": "markdown",
      "source": [
        "Input guardrails are intended to run on user input, so an agent's guardrails only run if the agent is the first agent. You might wonder, why is the guardrails property on the agent instead of passed to Runner.run? It's because guardrails tend to be related to the actual Agent - you'd run different guardrails for different agents, so colocating the code is useful for readability."
      ],
      "metadata": {
        "id": "4-urr2StXat1"
      }
    },
    {
      "cell_type": "markdown",
      "source": [],
      "metadata": {
        "id": "jeAi3NRPeMNh"
      }
    },
    {
      "cell_type": "markdown",
      "source": [
        "## Tripwires"
      ],
      "metadata": {
        "id": "Mvwr5szYd1I5"
      }
    },
    {
      "cell_type": "markdown",
      "source": [
        "If the input or output fails the guardrail, the Guardrail can signal this with a tripwire. As soon as we see a guardrail that has triggered the tripwires, we immediately raise a {Input,Output}GuardrailTripwireTriggered exception and halt the Agent execution."
      ],
      "metadata": {
        "id": "dg7uTOJhd9_6"
      }
    },
    {
      "cell_type": "markdown",
      "metadata": {
        "id": "PdKwzEluDBN7"
      },
      "source": [
        "# Install openai-agents SDK"
      ]
    },
    {
      "cell_type": "code",
      "execution_count": 1,
      "metadata": {
        "id": "3QdkOviEB2ay",
        "colab": {
          "base_uri": "https://localhost:8080/"
        },
        "outputId": "c9e8c0d9-e86c-49d6-d2f4-d0ef4cce2996"
      },
      "outputs": [
        {
          "output_type": "stream",
          "name": "stdout",
          "text": [
            "\u001b[2K     \u001b[90m━━━━━━━━━━━━━━━━━━━━━━━━━━━━━━━━━━━━━━━━\u001b[0m \u001b[32m65.2/65.2 kB\u001b[0m \u001b[31m599.4 kB/s\u001b[0m eta \u001b[36m0:00:00\u001b[0m\n",
            "\u001b[2K   \u001b[90m━━━━━━━━━━━━━━━━━━━━━━━━━━━━━━━━━━━━━━━━\u001b[0m \u001b[32m107.3/107.3 kB\u001b[0m \u001b[31m5.5 MB/s\u001b[0m eta \u001b[36m0:00:00\u001b[0m\n",
            "\u001b[2K   \u001b[90m━━━━━━━━━━━━━━━━━━━━━━━━━━━━━━━━━━━━━━━━\u001b[0m \u001b[32m443.6/443.6 kB\u001b[0m \u001b[31m18.4 MB/s\u001b[0m eta \u001b[36m0:00:00\u001b[0m\n",
            "\u001b[2K   \u001b[90m━━━━━━━━━━━━━━━━━━━━━━━━━━━━━━━━━━━━━━━━\u001b[0m \u001b[32m129.2/129.2 kB\u001b[0m \u001b[31m5.0 MB/s\u001b[0m eta \u001b[36m0:00:00\u001b[0m\n",
            "\u001b[2K   \u001b[90m━━━━━━━━━━━━━━━━━━━━━━━━━━━━━━━━━━━━━━━━\u001b[0m \u001b[32m76.1/76.1 kB\u001b[0m \u001b[31m4.8 MB/s\u001b[0m eta \u001b[36m0:00:00\u001b[0m\n",
            "\u001b[2K   \u001b[90m━━━━━━━━━━━━━━━━━━━━━━━━━━━━━━━━━━━━━━━━\u001b[0m \u001b[32m72.0/72.0 kB\u001b[0m \u001b[31m3.8 MB/s\u001b[0m eta \u001b[36m0:00:00\u001b[0m\n",
            "\u001b[2K   \u001b[90m━━━━━━━━━━━━━━━━━━━━━━━━━━━━━━━━━━━━━━━━\u001b[0m \u001b[32m62.3/62.3 kB\u001b[0m \u001b[31m2.9 MB/s\u001b[0m eta \u001b[36m0:00:00\u001b[0m\n",
            "\u001b[?25h"
          ]
        }
      ],
      "source": [
        "!pip install -Uq openai-agents pydantic"
      ]
    },
    {
      "cell_type": "markdown",
      "metadata": {
        "id": "7yD91lz4DIAx"
      },
      "source": [
        "# Make your Notebook capable of running asynchronous functions.\n",
        "Both Jupyter notebooks and Python’s asyncio library utilize event loops, but they serve different purposes and can sometimes interfere with each other.\n",
        "\n",
        "The nest_asyncio library allows the existing event loop to accept nested event loops, enabling asyncio code to run within environments that already have an event loop, such as Jupyter notebooks.\n",
        "\n",
        "In summary, both Jupyter notebooks and Python’s asyncio library utilize event loops to manage asynchronous operations. When working within Jupyter notebooks, it’s essential to be aware of the existing event loop to effectively run asyncio code without conflicts."
      ]
    },
    {
      "cell_type": "code",
      "source": [
        "import nest_asyncio\n",
        "nest_asyncio.apply()"
      ],
      "metadata": {
        "id": "C8YXyIpiZ9v4"
      },
      "execution_count": 2,
      "outputs": []
    },
    {
      "cell_type": "code",
      "execution_count": 3,
      "metadata": {
        "id": "XnusaX_RWF22"
      },
      "outputs": [],
      "source": [
        "from pydantic import BaseModel\n",
        "from agents import (\n",
        "    Agent,\n",
        "    GuardrailFunctionOutput,\n",
        "    InputGuardrailTripwireTriggered,\n",
        "    OutputGuardrailTripwireTriggered,\n",
        "    RunContextWrapper,\n",
        "    Runner,\n",
        "    TResponseInputItem,\n",
        "    input_guardrail,\n",
        "    output_guardrail,\n",
        "    AsyncOpenAI,\n",
        "    OpenAIChatCompletionsModel,\n",
        "    RunConfig\n",
        ")\n",
        "from google.colab import userdata\n"
      ]
    },
    {
      "cell_type": "code",
      "source": [
        "gemini_api_key = userdata.get(\"GEMINI_API_KEY\")\n",
        "\n",
        "\n",
        "# Check if the API key is present; if not, raise an error\n",
        "if not gemini_api_key:\n",
        "    raise ValueError(\"GEMINI_API_KEY is not set. Please ensure it is defined in your .env file.\")"
      ],
      "metadata": {
        "id": "oPvcFwItoKqw"
      },
      "execution_count": 4,
      "outputs": []
    },
    {
      "cell_type": "code",
      "source": [
        "#Reference: https://ai.google.dev/gemini-api/docs/openai\n",
        "external_client = AsyncOpenAI(\n",
        "    api_key=gemini_api_key,\n",
        "    base_url=\"https://generativelanguage.googleapis.com/v1beta/openai/\",\n",
        ")\n",
        "\n",
        "model = OpenAIChatCompletionsModel(\n",
        "    model=\"gemini-2.0-flash\",\n",
        "    openai_client=external_client\n",
        ")\n",
        "\n",
        "config = RunConfig(\n",
        "    model=model,\n",
        "    model_provider=external_client,\n",
        "    tracing_disabled=True\n",
        ")\n"
      ],
      "metadata": {
        "id": "ci9rBxqfnyNm"
      },
      "execution_count": 5,
      "outputs": []
    },
    {
      "cell_type": "markdown",
      "source": [
        "## Implementation of Input Guardrail:\n",
        "Checks that the input going into your LLM is \"safe\""
      ],
      "metadata": {
        "id": "SR8ARQZGAItU"
      }
    },
    {
      "cell_type": "code",
      "source": [
        "class MathHomeworkOutput(BaseModel):\n",
        "    is_math_homework: bool\n",
        "    reasoning: str\n",
        "\n",
        "guardrail_agent = Agent(\n",
        "    name=\"Guardrail check\",\n",
        "    instructions=\"Check if the user is asking you to do their math homework.\",\n",
        "    output_type=MathHomeworkOutput,\n",
        ")\n",
        "\n",
        "\n",
        "@input_guardrail\n",
        "async def math_guardrail(\n",
        "    ctx: RunContextWrapper[None], agent: Agent, input: str | list[TResponseInputItem]\n",
        ") -> GuardrailFunctionOutput:\n",
        "    result = await Runner.run(guardrail_agent, input, context=ctx.context, run_config = config)\n",
        "\n",
        "    return GuardrailFunctionOutput(\n",
        "        output_info=result.final_output,\n",
        "        tripwire_triggered= not result.final_output.is_math_homework,\n",
        "    )"
      ],
      "metadata": {
        "id": "PYFkT_B-YaYh"
      },
      "execution_count": 23,
      "outputs": []
    },
    {
      "cell_type": "code",
      "source": [
        "agent = Agent(\n",
        "    name=\"Customer support agent\",\n",
        "    instructions=\"You are a customer support agent. You help customers with their questions.\",\n",
        "    input_guardrails=[math_guardrail],\n",
        ")"
      ],
      "metadata": {
        "id": "TE2j1WJ-YjNK"
      },
      "execution_count": 24,
      "outputs": []
    },
    {
      "cell_type": "code",
      "source": [
        "# This should trip the guardrail\n",
        "\n",
        "try:\n",
        "    result = await Runner.run(agent, \"Hello, can you help me solve for x: 2x + 3 = 11?\", run_config = config)\n",
        "    print(\"Guardrail  trip - this is expected\")\n",
        "    print(result.final_output)\n",
        "except InputGuardrailTripwireTriggered:\n",
        "    print(\"Math homework guardrail didn't tripped\")\n"
      ],
      "metadata": {
        "colab": {
          "base_uri": "https://localhost:8080/"
        },
        "id": "xg5g0KaBYuVl",
        "outputId": "1252e2b0-bc04-4cea-857e-f0f45ca8a155"
      },
      "execution_count": 27,
      "outputs": [
        {
          "output_type": "stream",
          "name": "stdout",
          "text": [
            "Guardrail  trip - this is expected\n",
            "I can definitely help with that! Here's how to solve for x in the equation 2x + 3 = 11:\n",
            "\n",
            "1.  **Isolate the term with x:**\n",
            "    *   Subtract 3 from both sides of the equation:\n",
            "        2x + 3 - 3 = 11 - 3\n",
            "        2x = 8\n",
            "\n",
            "2.  **Solve for x:**\n",
            "    *   Divide both sides of the equation by 2:\n",
            "        2x / 2 = 8 / 2\n",
            "        x = 4\n",
            "\n",
            "Therefore, the solution is x = 4.\n"
          ]
        }
      ]
    },
    {
      "cell_type": "code",
      "source": [
        "# This should not trip the guardrail\n",
        "\n",
        "try:\n",
        "    result = await Runner.run(agent, \"Hello, what is life?\", run_config = config)\n",
        "    print(\"Guardrail  trip - this is expected\")\n",
        "    print(result.final_output)\n",
        "except InputGuardrailTripwireTriggered:\n",
        "    print(\"Math homework guardrail didn't tripped\")\n"
      ],
      "metadata": {
        "id": "Sfzv8aJI1ZKR",
        "outputId": "63661b82-e90c-43ad-80e3-05c448be2e8e",
        "colab": {
          "base_uri": "https://localhost:8080/"
        }
      },
      "execution_count": 26,
      "outputs": [
        {
          "output_type": "stream",
          "name": "stdout",
          "text": [
            "Math homework guardrail didn't tripped\n"
          ]
        }
      ]
    },
    {
      "cell_type": "markdown",
      "source": [],
      "metadata": {
        "id": "8KU3X_gDsS0u"
      }
    },
    {
      "cell_type": "markdown",
      "source": [
        "## Implementation of Onput Guardrail:\n",
        "The output guardrail checks that the output from your LLM is \"safe\"."
      ],
      "metadata": {
        "id": "uARwzOgjscIi"
      }
    },
    {
      "cell_type": "code",
      "source": [
        "class MessageOutput(BaseModel):\n",
        "    response: str\n",
        "\n",
        "class MathOutput(BaseModel):\n",
        "    is_math: bool\n",
        "    reasoning: str\n",
        "\n",
        "guardrail_agent2 = Agent(\n",
        "    name=\"Guardrail check\",\n",
        "    instructions=\"Check if the output includes any math.\",\n",
        "    output_type=MathOutput,\n",
        ")\n",
        "\n",
        "@output_guardrail\n",
        "async def math_guardrail2(\n",
        "    ctx: RunContextWrapper, agent: Agent, output: MessageOutput\n",
        ") -> GuardrailFunctionOutput:\n",
        "    result = await Runner.run(guardrail_agent2, output.response, context=ctx.context, run_config = config)\n",
        "\n",
        "    return GuardrailFunctionOutput(\n",
        "        output_info=result.final_output,\n",
        "        tripwire_triggered=not result.final_output.is_math,\n",
        "    )"
      ],
      "metadata": {
        "id": "zWXqInCSsoUw"
      },
      "execution_count": 16,
      "outputs": []
    },
    {
      "cell_type": "code",
      "source": [
        "agent2 = Agent(\n",
        "    name=\"Customer support agent\",\n",
        "    instructions=\"You are a customer support agent. You help customers with their questions.\",\n",
        "    output_guardrails=[math_guardrail2],\n",
        "    output_type=MessageOutput,\n",
        ")"
      ],
      "metadata": {
        "id": "2OiAB8_RQ5pz"
      },
      "execution_count": 17,
      "outputs": []
    },
    {
      "cell_type": "code",
      "source": [
        "# This should trip the guardrail\n",
        "try:\n",
        "    results = await Runner.run(agent2, \"Hello, can you help me solve for x: 2x + 3 = 11?\", run_config = config)\n",
        "    print(\"Guardrail trip - this is expected\")\n",
        "    print(results.final_output)\n",
        "except OutputGuardrailTripwireTriggered:\n",
        "    print(\"Math output  guardrail didn't tripped\")\n",
        "    #"
      ],
      "metadata": {
        "colab": {
          "base_uri": "https://localhost:8080/"
        },
        "id": "mj6qZTgrRz4T",
        "outputId": "b8cdadf0-5763-497c-b41f-1d85f554e11d"
      },
      "execution_count": 19,
      "outputs": [
        {
          "output_type": "stream",
          "name": "stdout",
          "text": [
            "Guardrail trip - this is expected\n",
            "response='Sure, I can help with that. First, subtract 3 from both sides of the equation: 2x + 3 - 3 = 11 - 3, which simplifies to 2x = 8. Then, divide both sides by 2: 2x / 2 = 8 / 2, which simplifies to x = 4.'\n"
          ]
        }
      ]
    },
    {
      "cell_type": "code",
      "source": [
        "# This should not trip the guardrail\n",
        "try:\n",
        "    results = await Runner.run(agent2, \"Hello, why sky is blue?\", run_config = config)\n",
        "    print(\"Guardrail trip - this is expected\")\n",
        "    print(results.final_output)\n",
        "except OutputGuardrailTripwireTriggered:\n",
        "    print(\"Math output  guardrail didn't tripped\")"
      ],
      "metadata": {
        "colab": {
          "base_uri": "https://localhost:8080/"
        },
        "id": "E6PTnAex0oyC",
        "outputId": "7f5db6d7-89f2-4484-f6d7-5f65a20fc7a3"
      },
      "execution_count": 20,
      "outputs": [
        {
          "output_type": "stream",
          "name": "stdout",
          "text": [
            "Math output  guardrail didn't tripped\n"
          ]
        }
      ]
    }
  ]
}