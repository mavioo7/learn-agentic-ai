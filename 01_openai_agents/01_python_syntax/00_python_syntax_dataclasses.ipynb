{
  "cells": [
    {
      "cell_type": "code",
      "execution_count": 1,
      "metadata": {
        "id": "Tq7xqEeCdYAF"
      },
      "outputs": [],
      "source": [
        "from dataclasses import dataclass"
      ]
    },
    {
      "cell_type": "code",
      "execution_count": 17,
      "metadata": {
        "id": "PnZmcPWKdjPi"
      },
      "outputs": [],
      "source": [
        "from typing import ClassVar\n",
        "\n",
        "@dataclass\n",
        "class American:\n",
        "  national_language: ClassVar[str] = \"English\"\n",
        "  national_food: ClassVar[str] = \"Hamburger\"\n",
        "  normal_body_temperature: ClassVar[float] = 98.6\n",
        "  name: str\n",
        "  age: int\n",
        "  weight: float\n",
        "  liked_food: str\n",
        "\n",
        "  def speaks(self):\n",
        "    return f\"{self.name} is speaking... {American.national_language}\"\n",
        "\n",
        "  def eats(self):\n",
        "    return f\"{self.name} is eating...{American.national_food}\"\n",
        "\n",
        "  @staticmethod\n",
        "  def country_language():\n",
        "    return American.national_language"
      ]
    },
    {
      "cell_type": "code",
      "execution_count": 18,
      "metadata": {
        "colab": {
          "base_uri": "https://localhost:8080/",
          "height": 35
        },
        "id": "JnPKuLWye_iE",
        "outputId": "79bcad20-b0fc-4e16-c571-fbad193a4a0f"
      },
      "outputs": [
        {
          "output_type": "execute_result",
          "data": {
            "text/plain": [
              "'English'"
            ],
            "application/vnd.google.colaboratory.intrinsic+json": {
              "type": "string"
            }
          },
          "metadata": {},
          "execution_count": 18
        }
      ],
      "source": [
        "American.country_language()"
      ]
    },
    {
      "cell_type": "code",
      "execution_count": 19,
      "metadata": {
        "colab": {
          "base_uri": "https://localhost:8080/"
        },
        "id": "cN3EJ7Hgd0_7",
        "outputId": "5cc1ac06-fc5e-4bd2-860e-2aa299536c15"
      },
      "outputs": [
        {
          "output_type": "stream",
          "name": "stdout",
          "text": [
            "John is speaking... English\n",
            "John is eating...Hamburger\n"
          ]
        }
      ],
      "source": [
        "john = American(name=\"John\", age=25, weight=65, liked_food=\"P\")\n",
        "print(john.speaks())\n",
        "print(john.eats())"
      ]
    },
    {
      "cell_type": "code",
      "execution_count": 20,
      "metadata": {
        "colab": {
          "base_uri": "https://localhost:8080/"
        },
        "id": "frUjWYLLfzUY",
        "outputId": "fec4d947-d9ef-41d3-faf1-7127999e90cc"
      },
      "outputs": [
        {
          "output_type": "stream",
          "name": "stdout",
          "text": [
            "American(name='John', age=25, weight=65, liked_food='P')\n",
            "John\n",
            "25\n",
            "65\n",
            "English\n"
          ]
        }
      ],
      "source": [
        "print(john)\n",
        "print(john.name)\n",
        "print(john.age)\n",
        "print(john.weight)\n",
        "print(American.national_language)"
      ]
    }
  ],
  "metadata": {
    "colab": {
      "provenance": []
    },
    "kernelspec": {
      "display_name": "Python 3",
      "name": "python3"
    },
    "language_info": {
      "name": "python"
    }
  },
  "nbformat": 4,
  "nbformat_minor": 0
}